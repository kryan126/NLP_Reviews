{
  "nbformat": 4,
  "nbformat_minor": 0,
  "metadata": {
    "colab": {
      "name": "OBGYN_LDA",
      "provenance": []
    },
    "kernelspec": {
      "name": "python3",
      "display_name": "Python 3"
    }
  },
  "cells": [
    {
      "cell_type": "code",
      "metadata": {
        "id": "yOA_-ZPSw66j",
        "colab": {
          "base_uri": "https://localhost:8080/",
          "height": 562
        },
        "outputId": "760fe99e-f843-41ae-f2b6-9347f1f169fb"
      },
      "source": [
        "# Installations\r\n",
        "!pip install pyLDAvis # Install pyLDAvis\r\n",
        "!pip install -U gensim # Colab's version of gensim is deprecated "
      ],
      "execution_count": null,
      "outputs": [
        {
          "output_type": "stream",
          "text": [
            "Requirement already satisfied: pyLDAvis in /usr/local/lib/python3.6/dist-packages (3.2.0)\n",
            "Requirement already satisfied: future in /usr/local/lib/python3.6/dist-packages (from pyLDAvis) (0.16.0)\n",
            "Requirement already satisfied: numpy>=1.9.2 in /usr/local/lib/python3.6/dist-packages (from pyLDAvis) (1.19.5)\n",
            "Requirement already satisfied: numexpr in /usr/local/lib/python3.6/dist-packages (from pyLDAvis) (2.7.2)\n",
            "Requirement already satisfied: funcy in /usr/local/lib/python3.6/dist-packages (from pyLDAvis) (1.15)\n",
            "Requirement already satisfied: pandas>=0.17.0; python_version > \"3.5\" in /usr/local/lib/python3.6/dist-packages (from pyLDAvis) (1.1.5)\n",
            "Requirement already satisfied: wheel>=0.23.0 in /usr/local/lib/python3.6/dist-packages (from pyLDAvis) (0.36.2)\n",
            "Requirement already satisfied: scipy>=0.18.0 in /usr/local/lib/python3.6/dist-packages (from pyLDAvis) (1.4.1)\n",
            "Requirement already satisfied: jinja2>=2.7.2 in /usr/local/lib/python3.6/dist-packages (from pyLDAvis) (2.11.3)\n",
            "Requirement already satisfied: joblib>=0.8.4 in /usr/local/lib/python3.6/dist-packages (from pyLDAvis) (1.0.0)\n",
            "Requirement already satisfied: pytz>=2017.2 in /usr/local/lib/python3.6/dist-packages (from pandas>=0.17.0; python_version > \"3.5\"->pyLDAvis) (2018.9)\n",
            "Requirement already satisfied: python-dateutil>=2.7.3 in /usr/local/lib/python3.6/dist-packages (from pandas>=0.17.0; python_version > \"3.5\"->pyLDAvis) (2.8.1)\n",
            "Requirement already satisfied: MarkupSafe>=0.23 in /usr/local/lib/python3.6/dist-packages (from jinja2>=2.7.2->pyLDAvis) (1.1.1)\n",
            "Requirement already satisfied: six>=1.5 in /usr/local/lib/python3.6/dist-packages (from python-dateutil>=2.7.3->pandas>=0.17.0; python_version > \"3.5\"->pyLDAvis) (1.15.0)\n",
            "Collecting gensim\n",
            "\u001b[?25l  Downloading https://files.pythonhosted.org/packages/2b/e0/fa6326251692056dc880a64eb22117e03269906ba55a6864864d24ec8b4e/gensim-3.8.3-cp36-cp36m-manylinux1_x86_64.whl (24.2MB)\n",
            "\u001b[K     |████████████████████████████████| 24.2MB 41.9MB/s \n",
            "\u001b[?25hRequirement already satisfied, skipping upgrade: smart-open>=1.8.1 in /usr/local/lib/python3.6/dist-packages (from gensim) (4.1.2)\n",
            "Requirement already satisfied, skipping upgrade: six>=1.5.0 in /usr/local/lib/python3.6/dist-packages (from gensim) (1.15.0)\n",
            "Requirement already satisfied, skipping upgrade: scipy>=0.18.1 in /usr/local/lib/python3.6/dist-packages (from gensim) (1.4.1)\n",
            "Requirement already satisfied, skipping upgrade: numpy>=1.11.3 in /usr/local/lib/python3.6/dist-packages (from gensim) (1.19.5)\n",
            "Installing collected packages: gensim\n",
            "  Found existing installation: gensim 3.6.0\n",
            "    Uninstalling gensim-3.6.0:\n",
            "      Successfully uninstalled gensim-3.6.0\n",
            "Successfully installed gensim-3.8.3\n"
          ],
          "name": "stdout"
        },
        {
          "output_type": "display_data",
          "data": {
            "application/vnd.colab-display-data+json": {
              "pip_warning": {
                "packages": [
                  "gensim"
                ]
              }
            }
          },
          "metadata": {
            "tags": []
          }
        }
      ]
    },
    {
      "cell_type": "code",
      "metadata": {
        "id": "G5revJXUxdE7"
      },
      "source": [
        "# Import required Module\r\n",
        "import pandas as pd\r\n",
        "from datetime import datetime\r\n",
        "import re\r\n",
        "from collections import Counter\r\n",
        "import numpy as np\r\n",
        "from gensim import corpora\r\n",
        "from gensim.models import ldamodel\r\n",
        "import pyLDAvis.gensim as gensimvis\r\n",
        "import pyLDAvis\r\n",
        "import pickle"
      ],
      "execution_count": null,
      "outputs": []
    },
    {
      "cell_type": "code",
      "metadata": {
        "id": "n0uMeJ8XxCa6"
      },
      "source": [
        "# Getting required methods\r\n",
        "from gensim.parsing.preprocessing import STOPWORDS"
      ],
      "execution_count": null,
      "outputs": []
    },
    {
      "cell_type": "code",
      "metadata": {
        "id": "t1VyKAQXyjCA"
      },
      "source": [
        "# Set random seed \r\n",
        "np.random.seed(2)"
      ],
      "execution_count": null,
      "outputs": []
    },
    {
      "cell_type": "code",
      "metadata": {
        "id": "74PNKd20yzVM"
      },
      "source": [
        "# Function to import csv file's reviews and convert it to raw data \r\n",
        "def load_csv_data(filename):\r\n",
        "    data = pd.read_csv(filename, error_bad_lines=False, encoding='latin1', names = range(18))\r\n",
        "    data = data.rename(columns = {15 : 'Reviews'}) # Change this line if your csv file has column headers\r\n",
        "    rawtext = data['Reviews'].tolist()\r\n",
        "    return rawtext"
      ],
      "execution_count": null,
      "outputs": []
    },
    {
      "cell_type": "code",
      "metadata": {
        "id": "L8GXhrNqaHv-"
      },
      "source": [
        "# Function to load in Frequent Word Text File\r\n",
        "\"\"\"\" \r\n",
        "def loadFrequentWords(freqWordFile):\r\n",
        "    file = open(freqWordFile,'r')\r\n",
        "    frequentWords = []\r\n",
        "    for word in file:\r\n",
        "        frequentWords.append(word.replace(\"\\n\",\"\"))\r\n",
        "    return frequentWords\r\n",
        "\"\"\"\""
      ],
      "execution_count": null,
      "outputs": []
    },
    {
      "cell_type": "code",
      "metadata": {
        "id": "zScKb9OqZyxI"
      },
      "source": [
        "# Function to preprocess text \r\n",
        "def pre_process(text, frequent_words):\r\n",
        "  pre_processed = []\r\n",
        "  for line in text:\r\n",
        "    words = str(line).split(' ')\r\n",
        "    pre_processed.append([word for word in words if word.strip().lower().replace(\"'\",'').replace('.', '') not in frequent_words and word !=\"\" and len(word) > 2])\r\n",
        "  \r\n",
        "  return pre_processed"
      ],
      "execution_count": null,
      "outputs": []
    },
    {
      "cell_type": "code",
      "metadata": {
        "id": "7yPElpdYcB5R"
      },
      "source": [
        "# Modeling Function \r\n",
        "def topicmodeling(preprocessed_text_list,num_topics=10,iterations =50):\r\n",
        "    dictionary = corpora.Dictionary(preprocessed_text_list)\r\n",
        "    corpus = [dictionary.doc2bow(text) for text in preprocessed_text_list]\r\n",
        "    lda = ldamodel.LdaModel(corpus=corpus, id2word=dictionary,num_topics=num_topics, update_every=1, iterations =iterations,random_state=2)  \r\n",
        "    return (lda, dictionary, corpus)"
      ],
      "execution_count": null,
      "outputs": []
    },
    {
      "cell_type": "code",
      "metadata": {
        "id": "LYCoz4PQKjNn"
      },
      "source": [
        "# Ignore the last two lines of code if you have a custom frequently used words text file\r\n",
        "file_name = '/content/drive/MyDrive/OBGYN.csv' \r\n",
        "# freq_word_file = 'file path' \r\n",
        "other_words = ['dr', 'doctor', 'im', 'didnt', 'ive' 'dont', 'wont']\r\n",
        "freq_words = STOPWORDS.union(set(other_words))"
      ],
      "execution_count": null,
      "outputs": []
    },
    {
      "cell_type": "code",
      "metadata": {
        "id": "SXhBpD1_ezKK",
        "colab": {
          "base_uri": "https://localhost:8080/"
        },
        "outputId": "aeeaf397-88b7-4c71-e346-288e429e1cb3"
      },
      "source": [
        "# Create list of pre processed text using the above functions\r\n",
        "pre_processed_text = pre_process(load_csv_data(file_name), freq_words)"
      ],
      "execution_count": null,
      "outputs": [
        {
          "output_type": "stream",
          "text": [
            "/usr/local/lib/python3.6/dist-packages/IPython/core/interactiveshell.py:2822: DtypeWarning: Columns (7,9,13) have mixed types.Specify dtype option on import or set low_memory=False.\n",
            "  if self.run_code(code, result):\n"
          ],
          "name": "stderr"
        }
      ]
    },
    {
      "cell_type": "code",
      "metadata": {
        "id": "S7tdGUw5h81x"
      },
      "source": [
        "# Running the LDA model\r\n",
        "num_topics=10\r\n",
        "iterations =3000\r\n",
        "lda, dictionary, corpus = topicmodeling(pre_processed_text,num_topics=num_topics,iterations=iterations)"
      ],
      "execution_count": null,
      "outputs": []
    },
    {
      "cell_type": "code",
      "metadata": {
        "id": "eYkVWrb5ssgo"
      },
      "source": [
        "# Visualizing\r\n",
        "pyLDAvis.enable_notebook(local=True)\r\n",
        "vis_data = pyLDAvis.gensim.prepare(lda, corpus, dictionary, R = 30)"
      ],
      "execution_count": null,
      "outputs": []
    },
    {
      "cell_type": "code",
      "metadata": {
        "id": "jN38ABwRtUEA"
      },
      "source": [
        "# Saving Visualization as an html file\r\n",
        "# Note: you can use the .display method to show the plot in the notebook but the bars will not be labeled\r\n",
        "pyLDAvis.display(vis_data)\r\n",
        "pyLDAvis.save_html(vis_data,\"vis_lda.html\")"
      ],
      "execution_count": null,
      "outputs": []
    }
  ]
}